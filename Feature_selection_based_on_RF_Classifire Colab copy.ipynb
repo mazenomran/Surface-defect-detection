{
  "nbformat": 4,
  "nbformat_minor": 0,
  "metadata": {
    "colab": {
      "provenance": [],
      "mount_file_id": "163IHTOcoYlt5JP-9rIxeYVumDOpVY2HU",
      "authorship_tag": "ABX9TyO3hLxTeCRz0D6CUwgc1For",
      "include_colab_link": true
    },
    "kernelspec": {
      "name": "python3",
      "display_name": "Python 3"
    },
    "language_info": {
      "name": "python"
    }
  },
  "cells": [
    {
      "cell_type": "markdown",
      "metadata": {
        "id": "view-in-github",
        "colab_type": "text"
      },
      "source": [
        "<a href=\"https://colab.research.google.com/github/mazenomran/Surface-defect-detection/blob/main/Feature_selection_based_on_RF_Classifire%20Colab%20copy.ipynb\" target=\"_parent\"><img src=\"https://colab.research.google.com/assets/colab-badge.svg\" alt=\"Open In Colab\"/></a>"
      ]
    },
    {
      "cell_type": "markdown",
      "source": [
        "#Import packages and libraries"
      ],
      "metadata": {
        "id": "0w064jt6zMZe"
      }
    },
    {
      "cell_type": "code",
      "execution_count": 92,
      "metadata": {
        "id": "Yb3Tkp30y-UU"
      },
      "outputs": [],
      "source": [
        "import cv2\n",
        "import pandas as pd\n",
        "import numpy as np\n",
        "import os\n",
        "from skimage.filters import roberts, sobel, scharr, prewitt\n",
        "from scipy import ndimage as nd\n",
        "import time\n",
        "from sklearn import metrics\n",
        "import matplotlib.pyplot as plt\n",
        "from sklearn.metrics import PrecisionRecallDisplay\n",
        "import pickle\n",
        "from sklearn.ensemble import RandomForestClassifier"
      ]
    },
    {
      "cell_type": "markdown",
      "source": [
        "#Paths' files"
      ],
      "metadata": {
        "id": "h2u85HH4zifn"
      }
    },
    {
      "cell_type": "code",
      "source": [
        "train_path = \"/content/drive/MyDrive/MC_train/\"\n",
        "test_path = \"/content/drive/MyDrive/MC_test/\"\n",
        "mask_path =\"/content/drive/MyDrive/MC_masks/\""
      ],
      "metadata": {
        "id": "ZOVubkayzhpe"
      },
      "execution_count": 93,
      "outputs": []
    },
    {
      "cell_type": "markdown",
      "source": [
        "#Function for mask thresholding"
      ],
      "metadata": {
        "id": "wgBxrLQ3kIfn"
      }
    },
    {
      "cell_type": "code",
      "source": [
        "#This function is an experimental function \n",
        "#to get a binary mask of the image to make the classes confined between 1 and 0 only for each pixel\n",
        "def bi_mask (mask):\n",
        "  mask = cv2.imread(mask)\n",
        "  mask = cv2.cvtColor(mask, cv2.COLOR_BGR2GRAY)\n",
        "  mask = cv2.resize(mask, (210, 210))\n",
        "  mask = mask//255.\n",
        "  return mask\n",
        "  \n",
        "\n"
      ],
      "metadata": {
        "id": "bM9YxIWCkPMx"
      },
      "execution_count": 94,
      "outputs": []
    },
    {
      "cell_type": "code",
      "source": [
        "'''from google.colab.patches import cv2_imshow\n",
        "bimask1 = bi_mask(\"/content/drive/MyDrive/MC_masks/crack0.png\")*255.0\n",
        "cv2_imshow(bimask1)'''"
      ],
      "metadata": {
        "colab": {
          "base_uri": "https://localhost:8080/",
          "height": 52
        },
        "id": "VeP2MRahlLX_",
        "outputId": "16037b8f-4d29-4a9e-e38d-f30336260e8c"
      },
      "execution_count": 95,
      "outputs": [
        {
          "output_type": "execute_result",
          "data": {
            "text/plain": [
              "'from google.colab.patches import cv2_imshow\\nbimask1 = bi_mask(\"/content/drive/MyDrive/MC_masks/crack0.png\")*255.0\\ncv2_imshow(bimask1)'"
            ],
            "application/vnd.google.colaboratory.intrinsic+json": {
              "type": "string"
            }
          },
          "metadata": {},
          "execution_count": 95
        }
      ]
    },
    {
      "cell_type": "markdown",
      "source": [
        "#Features extraction function"
      ],
      "metadata": {
        "id": "0DZeQbo6z49F"
      }
    },
    {
      "cell_type": "code",
      "source": [
        "def feature_extractor(path,mask_path):\n",
        "    Dataset = pd.DataFrame()\n",
        "    for image in os.listdir(path):  # iterate through each file\n",
        "        #print(image)\n",
        "        df = pd.DataFrame()\n",
        "        if image.split('.')[0][:3] in [\"cra\",\"glu\",\"gra\",\"oil\",\"rou\"]: # first three letters of each defect type\n",
        "            mask = cv2.imread(mask_path + image)\n",
        "            mask = cv2.cvtColor(mask, cv2.COLOR_BGR2GRAY)\n",
        "            bi_mask = cv2.threshold(mask,127,255,0)\n",
        "            bi_mask = cv2.resize(mask, (210, 210))\n",
        "            df[\"label\"] = bi_mask.reshape(-1) # the label of each defected tile images is its binary mask\n",
        "        else:\n",
        "            df[\"label\"] = np.zeros((210, 210)).reshape(-1) #if the image not for defected tile its label is (0)\n",
        "               \n",
        "        input_img = cv2.imread(path + image)  # Read images\n",
        "        img = cv2.cvtColor(input_img, cv2.COLOR_BGR2GRAY)\n",
        "        img = cv2.resize(img, (210, 210))\n",
        "        \n",
        "        \n",
        "        pixel_values = img.reshape(-1)/255.0\n",
        "        df['Pixel_Value'] = pd.DataFrame(pixel_values)   #Pixel value itself as a feature\n",
        "        #Defining the desired filter (feature).    \n",
        "        edge_roberts = roberts(img)\n",
        "        edge_roberts1 = edge_roberts.reshape(-1)\n",
        "        df['Roberts'] = pd.DataFrame(edge_roberts1)\n",
        "\n",
        "        # SOBEL\n",
        "        edge_sobel = sobel(img)\n",
        "        edge_sobel1 = edge_sobel.reshape(-1)\n",
        "        df['Sobel'] = pd.DataFrame(edge_sobel1)\n",
        "\n",
        "        # VARIANCE with size=3\n",
        "        variance_img = nd.generic_filter(img, np.var, size=3)\n",
        "        edge_variance = variance_img.reshape(-1)/255.0\n",
        "        df['variance'] = pd.DataFrame(edge_variance)\n",
        "\n",
        "        # GAUSSIAN with sigma=3\n",
        "        gaussian_img = nd.gaussian_filter(img, sigma=3)\n",
        "        gaussian_img1 = gaussian_img.reshape(-1)/255.0\n",
        "        df['Gaussian3'] = pd.DataFrame(gaussian_img1)\n",
        "            \n",
        "        # SCHARR\n",
        "        edge_scharr = scharr(img)\n",
        "        edge_scharr1 = edge_scharr.reshape(-1)\n",
        "        df['Scharr'] = pd.DataFrame(edge_scharr1)\n",
        "\n",
        "        # PREWITT\n",
        "        edge_prewitt = prewitt(img)\n",
        "        edge_prewitt1 = edge_prewitt.reshape(-1)\n",
        "        df['Prewitt'] = pd.DataFrame(edge_prewitt1)\n",
        "        # MEDIAN with sigma=3\n",
        "        median_img = nd.median_filter(img, size=3)\n",
        "        median_img1 = median_img.reshape(-1)/255.0\n",
        "        df['Median3'] = pd.DataFrame(median_img1)\n",
        "           \n",
        "        # CANNY EDGE\n",
        "        edges = cv2.Canny(img, 100, 200)  # Image, min and max values\n",
        "        edges1 = edges.reshape(-1)/255.0\n",
        "        df['Canny_Edge'] = pd.DataFrame(edges1)\n",
        "        \n",
        "        #Add column to original dataframe\n",
        "        \n",
        "        Dataset = Dataset.append(df)\n",
        "    \n",
        "    return Dataset"
      ],
      "metadata": {
        "id": "nXHxWY2Kz3Ig"
      },
      "execution_count": 125,
      "outputs": []
    },
    {
      "cell_type": "markdown",
      "source": [
        "#Extracting training set"
      ],
      "metadata": {
        "id": "1R7dGzPu1nkg"
      }
    },
    {
      "cell_type": "code",
      "source": [
        "Training_data= feature_extractor(train_path,mask_path)  \n"
      ],
      "metadata": {
        "id": "-VuIvEZ50Ltc"
      },
      "execution_count": 126,
      "outputs": []
    },
    {
      "cell_type": "code",
      "source": [
        "Training_data = Training_data[Training_data.label != 0] \n",
        "X_train= Training_data.drop(labels =['label'], axis=1) \n",
        "X_train.info()\n",
        "#Scaling training set if needed\n",
        "'''from sklearn import preprocessing\n",
        "min_max_scaler = preprocessing.MinMaxScaler()\n",
        "X_train = min_max_scaler.fit_transform(X_train)'''\n",
        "\n",
        "y_train = Training_data['label'].values"
      ],
      "metadata": {
        "colab": {
          "base_uri": "https://localhost:8080/"
        },
        "id": "qaWEBGEzFnbd",
        "outputId": "08cbee95-eb7e-4219-9920-95375a4bc1ea"
      },
      "execution_count": 127,
      "outputs": [
        {
          "output_type": "stream",
          "name": "stdout",
          "text": [
            "<class 'pandas.core.frame.DataFrame'>\n",
            "Int64Index: 288938 entries, 50 to 23729\n",
            "Data columns (total 1 columns):\n",
            " #   Column   Non-Null Count   Dtype  \n",
            "---  ------   --------------   -----  \n",
            " 0   Prewitt  288938 non-null  float64\n",
            "dtypes: float64(1)\n",
            "memory usage: 4.4 MB\n"
          ]
        }
      ]
    },
    {
      "cell_type": "code",
      "source": [
        "y_train.shape"
      ],
      "metadata": {
        "colab": {
          "base_uri": "https://localhost:8080/"
        },
        "id": "AMxTeFYOH4cW",
        "outputId": "1b0bc324-935f-4599-df6b-46afd4e647e5"
      },
      "execution_count": 128,
      "outputs": [
        {
          "output_type": "execute_result",
          "data": {
            "text/plain": [
              "(288938,)"
            ]
          },
          "metadata": {},
          "execution_count": 128
        }
      ]
    },
    {
      "cell_type": "markdown",
      "source": [],
      "metadata": {
        "id": "io9DZM9uFnFN"
      }
    },
    {
      "cell_type": "markdown",
      "source": [
        "#Training the model"
      ],
      "metadata": {
        "id": "cgDyyP9N2wqg"
      }
    },
    {
      "cell_type": "code",
      "source": [
        "RF_model = RandomForestClassifier() \n",
        "#Calculating training time\n",
        "t0 = time.time()\n",
        "RF_model.fit(X_train,y_train)\n",
        "Training_time = time.time()-t0\n",
        "print(\"Training_time\", Training_time)"
      ],
      "metadata": {
        "colab": {
          "base_uri": "https://localhost:8080/"
        },
        "id": "eI0jYj8A16dz",
        "outputId": "26300bc7-7a7c-47bf-a42f-e4dd680c85d9"
      },
      "execution_count": 129,
      "outputs": [
        {
          "output_type": "stream",
          "name": "stdout",
          "text": [
            "Training_time 45.640337228775024\n"
          ]
        }
      ]
    },
    {
      "cell_type": "markdown",
      "source": [
        "#Estimating each feature importance"
      ],
      "metadata": {
        "id": "25N7OMnF3GxQ"
      }
    },
    {
      "cell_type": "code",
      "source": [
        "for score, name in zip(RF_model.feature_importances_, X_train.columns):\n",
        "    print(round(score, 2), name)"
      ],
      "metadata": {
        "colab": {
          "base_uri": "https://localhost:8080/"
        },
        "id": "wkBe-24S3MG7",
        "outputId": "e948e2b7-2be9-4019-be41-25522ca6f34d"
      },
      "execution_count": 130,
      "outputs": [
        {
          "output_type": "stream",
          "name": "stdout",
          "text": [
            "1.0 Prewitt\n"
          ]
        }
      ]
    },
    {
      "cell_type": "markdown",
      "source": [
        "#Extracting testing data"
      ],
      "metadata": {
        "id": "-Gh_fSOU3PO7"
      }
    },
    {
      "cell_type": "code",
      "source": [
        "Testing_data = feature_extractor(test_path,mask_path)\n"
      ],
      "metadata": {
        "id": "PVXHgxD53W84"
      },
      "execution_count": 131,
      "outputs": []
    },
    {
      "cell_type": "code",
      "source": [
        "Testing_data = Testing_data[Testing_data.label != 0] \n",
        "X_test = Testing_data.drop(labels =['label'], axis=1) \n",
        "y_test = Testing_data['label'].values"
      ],
      "metadata": {
        "id": "uAw1Y6OsoYBw"
      },
      "execution_count": 132,
      "outputs": []
    },
    {
      "cell_type": "markdown",
      "source": [
        "#Estimating model accuracy"
      ],
      "metadata": {
        "id": "YrGJ5OoZ3YQd"
      }
    },
    {
      "cell_type": "code",
      "source": [
        "test_prediction = RF_model.predict(X_test)   \n",
        "print (\"Accuracy RF_model = \", metrics.accuracy_score(y_test, test_prediction))"
      ],
      "metadata": {
        "colab": {
          "base_uri": "https://localhost:8080/"
        },
        "id": "nYJj5tDw3esL",
        "outputId": "2cd78eaf-a3c7-4e14-9213-33007535b941"
      },
      "execution_count": 124,
      "outputs": [
        {
          "output_type": "stream",
          "name": "stdout",
          "text": [
            "Accuracy RF_model =  0.9728879359561539\n"
          ]
        }
      ]
    }
  ]
}